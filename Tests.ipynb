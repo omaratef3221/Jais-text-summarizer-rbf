{
 "cells": [
  {
   "cell_type": "code",
   "execution_count": 1,
   "id": "2cb599c1",
   "metadata": {
    "scrolled": true
   },
   "outputs": [
    {
     "name": "stderr",
     "output_type": "stream",
     "text": [
      "/Users/omaratef/miniconda/envs/pytorch/lib/python3.9/site-packages/huggingface_hub/file_download.py:1150: FutureWarning: `resume_download` is deprecated and will be removed in version 1.0.0. Downloads always resume when possible. If you want to force a new download, use `force_download=True`.\n",
      "  warnings.warn(\n",
      "/Users/omaratef/miniconda/envs/pytorch/lib/python3.9/site-packages/huggingface_hub/file_download.py:1150: FutureWarning: `resume_download` is deprecated and will be removed in version 1.0.0. Downloads always resume when possible. If you want to force a new download, use `force_download=True`.\n",
      "  warnings.warn(\n"
     ]
    }
   ],
   "source": [
    "import torch\n",
    "from transformers import AutoTokenizer, AutoModelForCausalLM\n",
    "\n",
    "model_path = \"inceptionai/jais-family-590m-chat\"\n",
    "\n",
    "tokenizer = AutoTokenizer.from_pretrained(model_path)\n",
    "model = AutoModelForCausalLM.from_pretrained(model_path, device_map=\"auto\", trust_remote_code=True)"
   ]
  },
  {
   "cell_type": "code",
   "execution_count": 4,
   "id": "d91913d4",
   "metadata": {},
   "outputs": [
    {
     "name": "stdout",
     "output_type": "stream",
     "text": [
      "عاصمة دولة الإمارات العربية المتحدة، أبو ظبي، تعتبر واحدة من أكثر المدن جاذبية للسياح والمغتربين في العالم. تقع المدينة على الساحل الشرقي لشبه الجزيرة العربية وهي مركز رئيسي للأعمال التجارية والمالية والتعليم والترفيه. \n",
      "\n",
      "تم بناء العاصمة في عام 1966، وقد شهدت العديد من التغييرات والتحولات منذ تأسيسها. اليوم، تعد أبو ظبي واحدة من أكبر مدن الشرق الأوسط وأكثرها تطوراً، وتضم مجموعة متنوعة من المعالم السياحية والثقافية والتعليمية.\n"
     ]
    }
   ],
   "source": [
    "prompt_ar = \"### Instruction:اسمك \\\"جيس\\\" وسميت على اسم جبل جيس اعلى جبل في الامارات. تم بنائك بواسطة Inception في الإمارات. أنت مساعد مفيد ومحترم وصادق. أجب دائمًا بأكبر قدر ممكن من المساعدة، مع الحفاظ على البقاء أمناً. أكمل المحادثة بين [|Human|] و[|AI|] :\\n### Input:[|Human|] {Question}\\n[|AI|]\\n### Response :\"\n",
    "device = \"mps\"\n",
    "def get_response(text, tokenizer=tokenizer, model=model):\n",
    "    input_ids = tokenizer(text, return_tensors=\"pt\").input_ids\n",
    "    inputs = input_ids.to(device)\n",
    "    input_len = inputs.shape[-1]\n",
    "    generate_ids = model.generate(\n",
    "        inputs,\n",
    "        top_p=0.9,\n",
    "        temperature=0.3,\n",
    "        max_length=2048,\n",
    "        min_length=input_len + 4,\n",
    "        repetition_penalty=1.2,\n",
    "        do_sample=True,\n",
    "    )\n",
    "    response = tokenizer.batch_decode(\n",
    "        generate_ids, skip_special_tokens=True, clean_up_tokenization_spaces=True\n",
    "    )[0]\n",
    "    response = response.split(\"### Response :\")[-1]\n",
    "    return response\n",
    "\n",
    "\n",
    "ques = \"ما هي عاصمة الامارات؟\"\n",
    "text = prompt_ar.format_map({'Question': ques})\n",
    "print(get_response(text))\n"
   ]
  },
  {
   "cell_type": "code",
   "execution_count": 5,
   "id": "e0e5973d",
   "metadata": {},
   "outputs": [
    {
     "data": {
      "text/plain": [
       "JAISLMHeadModel(\n",
       "  (transformer): JAISModel(\n",
       "    (wte): Embedding(84992, 1536)\n",
       "    (drop): Dropout(p=0.0, inplace=False)\n",
       "    (h): ModuleList(\n",
       "      (0-17): 18 x JAISBlock(\n",
       "        (ln_1): LayerNorm((1536,), eps=1e-05, elementwise_affine=True)\n",
       "        (attn): JAISAttention(\n",
       "          (c_attn): Conv1D()\n",
       "          (c_proj): Conv1D()\n",
       "          (attn_dropout): Dropout(p=0.0, inplace=False)\n",
       "          (resid_dropout): Dropout(p=0.0, inplace=False)\n",
       "        )\n",
       "        (ln_2): LayerNorm((1536,), eps=1e-05, elementwise_affine=True)\n",
       "        (mlp): JAISMLP(\n",
       "          (c_fc): Conv1D()\n",
       "          (c_fc2): Conv1D()\n",
       "          (c_proj): Conv1D()\n",
       "          (act): SwiGLUActivation()\n",
       "          (dropout): Dropout(p=0.0, inplace=False)\n",
       "        )\n",
       "      )\n",
       "    )\n",
       "    (ln_f): LayerNorm((1536,), eps=1e-05, elementwise_affine=True)\n",
       "    (relative_pe): AlibiPositionEmbeddingLayer()\n",
       "  )\n",
       "  (lm_head): Linear(in_features=1536, out_features=84992, bias=False)\n",
       ")"
      ]
     },
     "execution_count": 5,
     "metadata": {},
     "output_type": "execute_result"
    }
   ],
   "source": [
    "model"
   ]
  },
  {
   "cell_type": "code",
   "execution_count": 3,
   "id": "8ad0189b",
   "metadata": {},
   "outputs": [
    {
     "name": "stdout",
     "output_type": "stream",
     "text": [
      "before: trainable model parameters: 640555008\n",
      "all model parameters: 640555020\n",
      "percentage of trainable model parameters: 100.00%\n",
      "Replacing feedforward layers with RBF in block 0\n",
      "Replacing feedforward layers with RBF in block 1\n",
      "Replacing feedforward layers with RBF in block 2\n",
      "Replacing feedforward layers with RBF in block 3\n",
      "Replacing feedforward layers with RBF in block 4\n",
      "Replacing feedforward layers with RBF in block 5\n",
      "Replacing feedforward layers with RBF in block 6\n",
      "Replacing feedforward layers with RBF in block 7\n",
      "Replacing feedforward layers with RBF in block 8\n",
      "Replacing feedforward layers with RBF in block 9\n",
      "Replacing feedforward layers with RBF in block 10\n",
      "Replacing feedforward layers with RBF in block 11\n",
      "Replacing feedforward layers with RBF in block 12\n",
      "Replacing feedforward layers with RBF in block 13\n",
      "Replacing feedforward layers with RBF in block 14\n",
      "Replacing feedforward layers with RBF in block 15\n",
      "Replacing feedforward layers with RBF in block 16\n",
      "Replacing feedforward layers with RBF in block 17\n",
      "after: trainable model parameters: 301332588\n",
      "all model parameters: 301332600\n",
      "percentage of trainable model parameters: 100.00%\n"
     ]
    }
   ],
   "source": [
    "from add_rbf_to_model import replace_ffn_with_rbf_jais\n",
    "from main import print_number_of_trainable_model_parameters\n",
    "print(\"before:\" , print_number_of_trainable_model_parameters(model))\n",
    "\n",
    "replace_ffn_with_rbf_jais(model, 2)\n",
    "print(\"\\n\")\n",
    "print(\"after:\" , print_number_of_trainable_model_parameters(model))"
   ]
  },
  {
   "cell_type": "code",
   "execution_count": 4,
   "id": "c9201fde",
   "metadata": {},
   "outputs": [
    {
     "data": {
      "text/plain": [
       "JAISLMHeadModel(\n",
       "  (transformer): JAISModel(\n",
       "    (wte): Embedding(84992, 1536)\n",
       "    (drop): Dropout(p=0.0, inplace=False)\n",
       "    (h): ModuleList(\n",
       "      (0-17): 18 x JAISBlock(\n",
       "        (ln_1): LayerNorm((1536,), eps=1e-05, elementwise_affine=True)\n",
       "        (attn): JAISAttention(\n",
       "          (c_attn): Conv1D()\n",
       "          (c_proj): Conv1D()\n",
       "          (attn_dropout): Dropout(p=0.0, inplace=False)\n",
       "          (resid_dropout): Dropout(p=0.0, inplace=False)\n",
       "        )\n",
       "        (ln_2): LayerNorm((1536,), eps=1e-05, elementwise_affine=True)\n",
       "        (mlp): JAISMLP(\n",
       "          (c_fc): CustomRBFFeedForward(\n",
       "            (rbf_layer): RBFLayer()\n",
       "          )\n",
       "          (c_fc2): CustomRBFFeedForward(\n",
       "            (rbf_layer): RBFLayer()\n",
       "          )\n",
       "          (c_proj): CustomRBFFeedForward(\n",
       "            (rbf_layer): RBFLayer()\n",
       "          )\n",
       "          (act): SwiGLUActivation()\n",
       "          (dropout): Dropout(p=0.0, inplace=False)\n",
       "        )\n",
       "      )\n",
       "    )\n",
       "    (ln_f): LayerNorm((1536,), eps=1e-05, elementwise_affine=True)\n",
       "    (relative_pe): AlibiPositionEmbeddingLayer()\n",
       "  )\n",
       "  (lm_head): Linear(in_features=1536, out_features=84992, bias=False)\n",
       ")"
      ]
     },
     "execution_count": 4,
     "metadata": {},
     "output_type": "execute_result"
    }
   ],
   "source": [
    "model"
   ]
  },
  {
   "cell_type": "code",
   "execution_count": null,
   "id": "692b9d96",
   "metadata": {},
   "outputs": [],
   "source": []
  }
 ],
 "metadata": {
  "kernelspec": {
   "display_name": "pytorch",
   "language": "python",
   "name": "pytorch"
  },
  "language_info": {
   "codemirror_mode": {
    "name": "ipython",
    "version": 3
   },
   "file_extension": ".py",
   "mimetype": "text/x-python",
   "name": "python",
   "nbconvert_exporter": "python",
   "pygments_lexer": "ipython3",
   "version": "3.9.16"
  }
 },
 "nbformat": 4,
 "nbformat_minor": 5
}
